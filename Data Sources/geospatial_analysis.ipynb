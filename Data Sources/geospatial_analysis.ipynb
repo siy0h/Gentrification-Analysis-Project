{
 "cells": [
  {
   "cell_type": "code",
   "execution_count": null,
   "metadata": {
    "collapsed": true
   },
   "outputs": [],
   "source": [
    "import pandas as pd\n",
    "from shapely.geometry import Point\n",
    "import geopandas as gpd\n",
    "import folium\n",
    "from geocoding import geocode\n",
    "import numpy as np"
   ]
  },
  {
   "cell_type": "code",
   "execution_count": 14,
   "metadata": {},
   "outputs": [],
   "source": [
    "gdf = gpd.read_file('City Wards Data.geojson')"
   ]
  },
  {
   "cell_type": "markdown",
   "metadata": {},
   "source": [
    "Checking to see if the file loaded into the dataframe properly"
   ]
  },
  {
   "cell_type": "code",
   "execution_count": null,
   "metadata": {},
   "outputs": [],
   "source": [
    "gdf.plot()"
   ]
  },
  {
   "cell_type": "markdown",
   "metadata": {
    "collapsed": false
   },
   "source": [
    "Loading data samples into dataframes and creating columns for the address"
   ]
  },
  {
   "cell_type": "code",
   "execution_count": 7,
   "metadata": {
    "collapsed": false
   },
   "outputs": [],
   "source": [
    "#lets read our sample dataset\n",
    "transportation_sample = \"transporation_sample.csv\"\n",
    "transportation_df = pd.read_csv(transportation_sample)\n",
    "\n",
    "#handling the null values for postal codes\n",
    "transportation_df['Postal'] = transportation_df['Postal'].replace(r'^\\s*$', '###', regex=True)\n",
    "\n",
    "#creating new column\n",
    "transportation_df['Address'] = transportation_df['Street_Num'] + \" \" +transportation_df['Street_Name'] + \" \"+ transportation_df['Street_Type'] +\" \" + transportation_df['Street_Direction'] + \" \" + transportation_df[\"Postal\"]\n",
    "\n",
    "print(transportation_df.head())"
   ]
  },
  {
   "cell_type": "code",
   "execution_count": 36,
   "metadata": {
    "collapsed": false
   },
   "outputs": [],
   "source": [
    "real_estate_df = pd.read_csv('realestate_sample.csv')\n",
    "\n",
    "#handling the null values for postal codes\n",
    "real_estate_df['Postal'] = transportation_df['Postal'].replace(r'^\\s*$', '###', regex=True)\n",
    "\n",
    "#creating new column\n",
    "real_estate_df['Address'] = real_estate_df['Street_Num'] + \" \" +real_estate_df['Street_Name'] + \" \"+ real_estate_df['Street_Type'] +\" \" + real_estate_df['Street_Direction'] + real_estate_df['Postal']\n",
    "\n",
    "print(real_estate_df.head())\n"
   ]
  },
  {
   "cell_type": "code",
   "execution_count": 3,
   "metadata": {
    "collapsed": false
   },
   "outputs": [],
   "source": [
    "amenities_df = pd.read_csv('amenities_sample.csv')\n",
    "\n",
    "#handling the null values for postal codes\n",
    "amenities_df['Postal'] = amenities_df['Postal'].replace(r'^\\s*$', '###', regex=True)\n",
    "\n",
    "#creating new column\n",
    "amenities_df['Address'] = amenities_df['Street_Num'] + \" \" +amenities_df['Street_Name'] + \" \"+ amenities_df['Street_Type'] +\" \" + amenities_df['Street_Direction'] + amenities_df['Postal']\n",
    "\n",
    "print(amenities_df.head())"
   ]
  },
  {
   "cell_type": "code",
   "execution_count": null,
   "metadata": {
    "collapsed": false
   },
   "outputs": [],
   "source": [
    "demolition_df = pd.read_csv(\"DemolitionDimension_Sample.csv\")\n",
    "\n",
    "print(demolition_df.head())"
   ]
  },
  {
   "cell_type": "markdown",
   "metadata": {
    "collapsed": false
   },
   "source": [
    "Turning Full Addresses into Coordinates using our geocoder"
   ]
  },
  {
   "cell_type": "code",
   "execution_count": null,
   "metadata": {
    "collapsed": false
   },
   "outputs": [],
   "source": [
    "#coordinate extraction\n",
    "from tqdm.notebook import tqdm  #progress bar\n",
    "tqdm.pandas()\n",
    "transportation_df[\n",
    "    'Coordinates'] = transportation_df['Address'].progress_apply(lambda x: geocode(x))\n",
    "print(transportation_df.head())"
   ]
  },
  {
   "cell_type": "code",
   "execution_count": 30,
   "metadata": {
    "collapsed": false
   },
   "outputs": [],
   "source": [
    "tqdm.pandas()\n",
    "amenities_df[\n",
    "    'Coordinates'] = amenities_df['Address'].progress_apply(lambda x: geocode(x))\n",
    "print(amenities_df.head())"
   ]
  },
  {
   "cell_type": "code",
   "execution_count": null,
   "metadata": {
    "collapsed": false
   },
   "outputs": [],
   "source": [
    "tqdm.pandas()\n",
    "real_estate_df[\n",
    "    'Coordinates'] = real_estate_df['Address'].progress_apply(lambda x: geocode(x))\n",
    "print(real_estate_df['Coordinates'])"
   ]
  },
  {
   "cell_type": "code",
   "execution_count": null,
   "metadata": {
    "collapsed": false
   },
   "outputs": [],
   "source": [
    "tqdm.pandas()\n",
    "demolition_df[\n",
    "    'Coordinates'] = demolition_df['IBMS Address'].progress_apply(lambda x: geocode(x))\n",
    "print(real_estate_df['Coordinates'])"
   ]
  },
  {
   "cell_type": "markdown",
   "metadata": {},
   "source": [
    "MAPPING SECTION -- taking our points and linking them to a ward"
   ]
  },
  {
   "cell_type": "code",
   "execution_count": null,
   "metadata": {},
   "outputs": [],
   "source": [
    "#getting our map ready. we need to project the initial GeoJSON onto the folium map\n",
    "gdf_projected = gdf.to_crs(epsg=4326)\n",
    "s_index = gdf_projected.sindex\n",
    "centroid = gdf_projected.geometry.centroid"
   ]
  },
  {
   "cell_type": "code",
   "execution_count": null,
   "metadata": {},
   "outputs": [],
   "source": [
    "mean_latitude = centroid.y.mean()\n",
    "mean_longitude = centroid.x.mean()"
   ]
  },
  {
   "cell_type": "code",
   "execution_count": 16,
   "metadata": {},
   "outputs": [],
   "source": [
    "m = folium.Map(location=[mean_latitude, mean_longitude], zoom_start=10)"
   ]
  },
  {
   "cell_type": "code",
   "execution_count": 17,
   "metadata": {
    "collapsed": false
   },
   "outputs": [],
   "source": [
    "#ward mapping function\n",
    "def ward_mapper(point):\n",
    "    ward_index = None\n",
    "    ward_name = None\n",
    "\n",
    "    if point is not None:\n",
    "        possible_matches_index = list(s_index.intersection(point.bounds)) #list of possible wards\n",
    "        found_match = False\n",
    "        for idx in possible_matches_index: #iterate to find wards\n",
    "            if gdf['geometry'][idx].contains(point):\n",
    "                print(\"Point is contained within geometry at index:\", idx)\n",
    "                # Optionally, you can also print more information about the geometry\n",
    "                print(gdf.iloc[idx]['AREA_NAME'])\n",
    "                found_match = True\n",
    "                ward_name = gdf.iloc[idx]['AREA_NAME']\n",
    "                ward_index = idx\n",
    "\n",
    "                break\n",
    "\n",
    "        if not found_match:\n",
    "            print(f\"Point {point} is not contained in any ward.\")\n",
    "        latitude, longitude = point.y, point.x\n",
    "        folium.Marker(location=(latitude, longitude), popup='Point').add_to(m)\n",
    "    return ward_index,ward_name\n"
   ]
  },
  {
   "cell_type": "code",
   "execution_count": 18,
   "metadata": {
    "collapsed": false
   },
   "outputs": [],
   "source": [
    "folium.GeoJson(gdf_projected.to_json()).add_to(m)"
   ]
  },
  {
   "cell_type": "code",
   "execution_count": null,
   "metadata": {
    "collapsed": false
   },
   "outputs": [],
   "source": [
    "# Unpack the result into separate columns in the DataFrame\n",
    "transportation_df['Ward_Index'], transportation_df['Ward'] = zip(*transportation_df['Coordinates'].apply(ward_mapper))\n",
    "print(transportation_df.loc[:, ['Coordinates','Ward_Index', 'Ward']])"
   ]
  },
  {
   "cell_type": "code",
   "execution_count": null,
   "metadata": {
    "collapsed": false
   },
   "outputs": [],
   "source": [
    "amenities_df['Ward_Index'], amenities_df['Ward'] = zip(*amenities_df['Coordinates'].apply(ward_mapper))\n",
    "print(amenities_df.loc[:, ['Coordinates','Ward_Index', 'Ward']])"
   ]
  },
  {
   "cell_type": "code",
   "execution_count": null,
   "metadata": {
    "collapsed": false
   },
   "outputs": [],
   "source": [
    "real_estate_df['Ward_Index'], real_estate_df['Ward'] = zip(*real_estate_df['Coordinates'].apply(ward_mapper))\n",
    "print(real_estate_df.loc[:, ['Coordinates','Ward_Index', 'Ward']])"
   ]
  },
  {
   "cell_type": "code",
   "execution_count": null,
   "metadata": {
    "collapsed": false
   },
   "outputs": [],
   "source": [
    "demolition_df['Ward_Index'], demolition_df['Ward'] = zip(*demolition_df['Coordinates'].apply(ward_mapper))\n",
    "print(demolition_df.loc[:, ['Coordinates','Ward_Index', 'Ward']])"
   ]
  },
  {
   "cell_type": "code",
   "execution_count": null,
   "metadata": {
    "collapsed": false
   },
   "outputs": [],
   "source": [
    "m # to view the points on the map"
   ]
  },
  {
   "cell_type": "markdown",
   "metadata": {
    "collapsed": false
   },
   "source": []
  }
 ],
 "metadata": {
  "kernelspec": {
   "display_name": "Python 3 (ipykernel)",
   "language": "python",
   "name": "python3"
  },
  "language_info": {
   "codemirror_mode": {
    "name": "ipython",
    "version": 3
   },
   "file_extension": ".py",
   "mimetype": "text/x-python",
   "name": "python",
   "nbconvert_exporter": "python",
   "pygments_lexer": "ipython3",
   "version": "3.10.4"
  }
 },
 "nbformat": 4,
 "nbformat_minor": 1
}
